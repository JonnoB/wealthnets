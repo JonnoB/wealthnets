{
 "cells": [
  {
   "cell_type": "code",
   "execution_count": 207,
   "metadata": {},
   "outputs": [],
   "source": [
    "import openai\n",
    "import config  # Import your config.py file\n",
    "import pandas as pd\n",
    "import numpy as np\n",
    "import pickle\n",
    "import os\n",
    "import ast\n",
    "import seaborn as sns\n",
    "import matplotlib.pyplot as plt\n",
    "import tiktoken\n",
    "import json\n",
    "\n",
    "# Set up the OpenAI API key from the config.py file\n",
    "openai.api_key = config.api_key "
   ]
  },
  {
   "cell_type": "code",
   "execution_count": 370,
   "metadata": {},
   "outputs": [],
   "source": [
    "def get_embedding(text, model=\"text-embedding-ada-002\"):\n",
    "   text = text.replace(\"\\n\", \" \")\n",
    "   return openai.Embedding.create(input = [text], model=model)['data'][0]['embedding']\n",
    "\n",
    "def load_pickle_file(file_path):\n",
    "    with open(file_path, 'rb') as file:\n",
    "        data = pickle.load(file)\n",
    "    return data\n",
    "\n",
    "def get_model_response(prompt, engine=\"gpt-3.5-turbo\"):\n",
    "    \n",
    "    messages = [\n",
    "        {\"role\": \"system\", \"content\": \"This is the system message\"},\n",
    "        {\"role\": \"user\", \"content\":prompt}\n",
    "    ]\n",
    "\n",
    "    response = openai.ChatCompletion.create(\n",
    "        model=engine,\n",
    "        messages=messages,\n",
    "        max_tokens=2000,\n",
    "        temperature = 0.2,\n",
    "        top_p = 0.9,\n",
    "    )\n",
    "\n",
    "    return response['choices'][0]['message']['content'].strip()\n",
    "\n",
    "def identify_gics_classes(df, class_list):\n",
    "\n",
    "    temp_df = df.copy()\n",
    "    temp_df['classes'] = \"\"\n",
    "    for i in range(0, temp_df.shape[0]):\n",
    "\n",
    "        biography = temp_df.at[i,'Biography']\n",
    "\n",
    "        prompt = f\"\"\"\n",
    "\n",
    "                    Read the list of Global Industry Classification Standard  (GICS) industry classes shown surrounded by 4 colon's below\n",
    "                    ::::\n",
    "                    {class_list}\n",
    "                    ::::\n",
    "\n",
    "                    Now read the the biography below surrounded by 3 colons, return a python list of GICS classes that most appropriately match the text\n",
    "                    :::\n",
    "                    {biography}\n",
    "                    :::\n",
    "                    the return string should be in the form shown below and should contain at least 1 entry\n",
    "                    [entry_1, entry_2,.. entry_n]\n",
    "                    \"\"\"\n",
    "\n",
    "        temp_df.loc[i, 'classes'] = get_model_response(prompt, engine=\"gpt-3.5-turbo\")\n",
    "\n",
    "    return temp_df\n",
    "\n",
    "    \n",
    "path_folder = './data/cities_json/London'"
   ]
  },
  {
   "cell_type": "code",
   "execution_count": 3,
   "metadata": {},
   "outputs": [],
   "source": [
    "all_files = os.listdir(path_folder)"
   ]
  },
  {
   "cell_type": "code",
   "execution_count": 4,
   "metadata": {},
   "outputs": [],
   "source": [
    "temp_dict = load_pickle_file(path_folder+'/'+all_files[1])"
   ]
  },
  {
   "cell_type": "code",
   "execution_count": 112,
   "metadata": {},
   "outputs": [],
   "source": [
    "data_root = './data/cities_json'\n",
    "bios_path = './data/all_bios_embeddings.csv'\n",
    "missing_bios_path = './data/missing_bios.csv'\n",
    "if os.path.exists(bios_path):\n",
    "    # Load the existing CSV if it exists\n",
    "    all_bios_df = pd.read_csv(bios_path)\n",
    "    #this conversion takes about 10 secs. a better storage method may be preferable aka, index = file name columns are numeric embeddings\n",
    "    all_bios_df['embedding'] = all_bios_df['embedding'].apply(ast.literal_eval)\n",
    "    missing_bio_df = pd.read_csv(missing_bios_path)\n",
    "else:\n",
    "    # Run the code to generate DataFrames a and b\n",
    "    all_bios_df = []\n",
    "    for path in os.listdir(data_root ):\n",
    "\n",
    "        all_files = os.listdir(data_root +'/' + path)\n",
    "\n",
    "        for file in all_files:\n",
    "\n",
    "            temp_dict = load_pickle_file(data_root +'/' + path +'/'+file)\n",
    "\n",
    "            if 'biography' not in temp_dict:\n",
    "                temp_dict['biography'] = pd.DataFrame({'Biography':[\"\"]})\n",
    "            \n",
    "            temp_df = temp_dict['biography']\n",
    "            temp_df['city'] = path\n",
    "            temp_df['file'] = file\n",
    "            temp_df['file'] = temp_df['file'].replace('.pkl', \"\")\n",
    "\n",
    "            all_bios_df.append(temp_df)\n",
    "\n",
    "\n",
    "    all_bios_df = pd.concat(all_bios_df, ignore_index=True)\n",
    "    all_bios_df = all_bios_df[['file', 'city','Biography']]\n",
    "\n",
    "    all_bios_df['no_bio']=(all_bios_df['Biography'].apply(len)<50)\n",
    "    missing_bio_df = all_bios_df.loc[all_bios_df['no_bio'] ].copy().drop('no_bio', axis = 1)\n",
    "\n",
    "    all_bios_df = all_bios_df.loc[~all_bios_df['no_bio'] ].drop('no_bio', axis = 1)\n",
    "\n",
    "    #this takes about 12 minutes and costs money, only run when necessary!!!\n",
    "    all_bios_df['embedding'] = all_bios_df['Biography'].apply(lambda x: get_embedding(x, model='text-embedding-ada-002'))\n",
    "\n",
    "    missing_bio_df.to_csv(missing_bios_path, index = False)\n",
    "    all_bios_df.to_csv(bios_path, index = False)\n"
   ]
  },
  {
   "cell_type": "code",
   "execution_count": 97,
   "metadata": {},
   "outputs": [
    {
     "data": {
      "text/plain": [
       "city\n",
       "Frankfurt                 103\n",
       "Hong Kong                 384\n",
       "Johannesburg              124\n",
       "Lagos                     246\n",
       "London                    394\n",
       "Mexico City               104\n",
       "New York                  389\n",
       "Rio de Janeiro             52\n",
       "San Francisco Bay Area    390\n",
       "Sydney                    316\n",
       "dtype: int64"
      ]
     },
     "execution_count": 97,
     "metadata": {},
     "output_type": "execute_result"
    }
   ],
   "source": [
    "all_bios_df.groupby(['city']).size()"
   ]
  },
  {
   "cell_type": "code",
   "execution_count": 172,
   "metadata": {},
   "outputs": [],
   "source": [
    "gics_embeddings_path = './data/gics_embeddings.csv'\n",
    "if os.path.exists(gics_embeddings_path):\n",
    "    # Load the existing CSV if it exists\n",
    "    gics_embeddings_df = pd.read_csv(gics_embeddings_path)\n",
    "    gics_embeddings_df = gics_embeddings_df['embedding'].apply(ast.literal_eval)\n",
    "\n",
    "else:\n",
    "    gics_embeddings_df = pd.read_csv('./data/gics-map-2018.csv')\n",
    "    gics_embeddings_df['embedding_desc'] = gics_embeddings_df['SubIndustryDescription'].apply(lambda x: get_embedding(x, model='text-embedding-ada-002'))\n",
    "    gics_embeddings_df['embedding'] = gics_embeddings_df['SubIndustry'].apply(lambda x: get_embedding(x, model='text-embedding-ada-002'))\n",
    "    gics_embeddings_df['token_count'] = gics_embeddings_df['SubIndustryDescription'].apply(lambda x: len(encoding.encode(x)))\n",
    "    gics_embeddings_df.to_csv(gics_embeddings_path, index=False)\n",
    "\n"
   ]
  },
  {
   "cell_type": "code",
   "execution_count": 186,
   "metadata": {},
   "outputs": [],
   "source": [
    "\n",
    "encoding = tiktoken.encoding_for_model(\"gpt-3.5-turbo\")\n",
    "\n"
   ]
  },
  {
   "cell_type": "code",
   "execution_count": 156,
   "metadata": {},
   "outputs": [],
   "source": [
    "from sklearn.metrics.pairwise import cosine_similarity\n",
    "\n",
    "def compute_cosine_similarity(df_A, df_B):\n",
    "    # Assuming that the embeddings in both dataframes are stored in a column named 'embeddings'\n",
    "    embeddings_A = np.stack(df_A['embedding'].values)\n",
    "    embeddings_B = np.stack(df_B['embedding'].values)\n",
    "    \n",
    "    # Calculate cosine similarity\n",
    "    cosine_sim_matrix = cosine_similarity(embeddings_A, embeddings_B)\n",
    "    \n",
    "    return cosine_sim_matrix\n",
    "\n",
    "\n",
    "def compute_similarity_statistics(cosine_sim_matrix, min = 0, max = 1, num_cutoffs=1000):\n",
    "    cutoffs = np.linspace(min, max, num=num_cutoffs)\n",
    "    \n",
    "    statistics = {\n",
    "        'Cutoff': [],\n",
    "        'Maximum': [],\n",
    "        'Minimum': [],\n",
    "        'Mean': [],\n",
    "        'Median': [],\n",
    "        'Standard Deviation': []\n",
    "    }\n",
    "\n",
    "    for cutoff in cutoffs:\n",
    "        row_sums = np.sum(cosine_sim_matrix >= cutoff, axis=1)\n",
    "        if row_sums.any():\n",
    "            statistics['Cutoff'].append(cutoff)\n",
    "            statistics['Maximum'].append(np.max(row_sums))\n",
    "            statistics['Minimum'].append(np.min(row_sums))\n",
    "            statistics['Mean'].append(np.mean(row_sums))\n",
    "            statistics['Median'].append(np.median(row_sums))\n",
    "            statistics['Standard Deviation'].append(np.std(row_sums))\n",
    "\n",
    "    result_df = pd.DataFrame(statistics)\n",
    "    return result_df"
   ]
  },
  {
   "cell_type": "code",
   "execution_count": 173,
   "metadata": {},
   "outputs": [],
   "source": [
    "test = compute_cosine_similarity(all_bios_df, gics_embeddings_df)"
   ]
  },
  {
   "cell_type": "code",
   "execution_count": 182,
   "metadata": {},
   "outputs": [
    {
     "data": {
      "text/html": [
       "<div>\n",
       "<style scoped>\n",
       "    .dataframe tbody tr th:only-of-type {\n",
       "        vertical-align: middle;\n",
       "    }\n",
       "\n",
       "    .dataframe tbody tr th {\n",
       "        vertical-align: top;\n",
       "    }\n",
       "\n",
       "    .dataframe thead th {\n",
       "        text-align: right;\n",
       "    }\n",
       "</style>\n",
       "<table border=\"1\" class=\"dataframe\">\n",
       "  <thead>\n",
       "    <tr style=\"text-align: right;\">\n",
       "      <th></th>\n",
       "      <th>Cutoff</th>\n",
       "      <th>Maximum</th>\n",
       "      <th>Minimum</th>\n",
       "      <th>Mean</th>\n",
       "      <th>Median</th>\n",
       "      <th>Standard Deviation</th>\n",
       "    </tr>\n",
       "  </thead>\n",
       "  <tbody>\n",
       "    <tr>\n",
       "      <th>832</th>\n",
       "      <td>0.724985</td>\n",
       "      <td>156</td>\n",
       "      <td>1</td>\n",
       "      <td>76.397282</td>\n",
       "      <td>76.0</td>\n",
       "      <td>31.895257</td>\n",
       "    </tr>\n",
       "    <tr>\n",
       "      <th>831</th>\n",
       "      <td>0.724955</td>\n",
       "      <td>156</td>\n",
       "      <td>1</td>\n",
       "      <td>76.501599</td>\n",
       "      <td>76.0</td>\n",
       "      <td>31.898154</td>\n",
       "    </tr>\n",
       "    <tr>\n",
       "      <th>830</th>\n",
       "      <td>0.724925</td>\n",
       "      <td>156</td>\n",
       "      <td>1</td>\n",
       "      <td>76.601519</td>\n",
       "      <td>76.0</td>\n",
       "      <td>31.901726</td>\n",
       "    </tr>\n",
       "    <tr>\n",
       "      <th>829</th>\n",
       "      <td>0.724895</td>\n",
       "      <td>156</td>\n",
       "      <td>1</td>\n",
       "      <td>76.700639</td>\n",
       "      <td>76.0</td>\n",
       "      <td>31.906029</td>\n",
       "    </tr>\n",
       "    <tr>\n",
       "      <th>828</th>\n",
       "      <td>0.724865</td>\n",
       "      <td>156</td>\n",
       "      <td>1</td>\n",
       "      <td>76.796962</td>\n",
       "      <td>76.0</td>\n",
       "      <td>31.902121</td>\n",
       "    </tr>\n",
       "  </tbody>\n",
       "</table>\n",
       "</div>"
      ],
      "text/plain": [
       "       Cutoff  Maximum  Minimum       Mean  Median  Standard Deviation\n",
       "832  0.724985      156        1  76.397282    76.0           31.895257\n",
       "831  0.724955      156        1  76.501599    76.0           31.898154\n",
       "830  0.724925      156        1  76.601519    76.0           31.901726\n",
       "829  0.724895      156        1  76.700639    76.0           31.906029\n",
       "828  0.724865      156        1  76.796962    76.0           31.902121"
      ]
     },
     "execution_count": 182,
     "metadata": {},
     "output_type": "execute_result"
    }
   ],
   "source": [
    "test2 = compute_similarity_statistics(test, 0.7, 0.73, num_cutoffs=1000)\n",
    "test2.loc[test2['Minimum']==1].sort_values('Cutoff', ascending=False).head()"
   ]
  },
  {
   "cell_type": "code",
   "execution_count": 181,
   "metadata": {},
   "outputs": [
    {
     "data": {
      "text/plain": [
       "<Axes: xlabel='Cutoff', ylabel='Minimum'>"
      ]
     },
     "execution_count": 181,
     "metadata": {},
     "output_type": "execute_result"
    },
    {
     "data": {
      "image/png": "[encoded data removed]",
      "text/plain": [
       "<Figure size 640x480 with 1 Axes>"
      ]
     },
     "metadata": {},
     "output_type": "display_data"
    }
   ],
   "source": [
    "sns.lineplot(data = test2, x = 'Cutoff', y = 'Minimum')"
   ]
  },
  {
   "cell_type": "markdown",
   "metadata": {},
   "source": [
    "# Perform auto classification of the gics classes"
   ]
  },
  {
   "cell_type": "code",
   "execution_count": 378,
   "metadata": {},
   "outputs": [
    {
     "name": "stdout",
     "output_type": "stream",
     "text": [
      "ttt\n"
     ]
    }
   ],
   "source": [
    "#prevents the calls to gpt being re-run unnecessarily\n",
    "if 'classes' not in all_bios_df.columns:\n",
    "    all_bios_df = identify_gics_classes(all_bios_df, str(gics_embeddings_df['Industry'].unique().tolist()))\n",
    "    all_bios_df.to_csv(bios_path, index = False)\n"
   ]
  },
  {
   "cell_type": "markdown",
   "metadata": {},
   "source": [
    "# Create a binary multi-label dataframe"
   ]
  },
  {
   "cell_type": "code",
   "execution_count": 375,
   "metadata": {},
   "outputs": [],
   "source": [
    "binary_data = {}\n",
    "\n",
    "# Iterate through each class in the original list and construct the binary data\n",
    "for class_name in gics_embeddings_df['Industry'].unique().tolist():\n",
    "    binary_data[class_name] = all_bios_df['classes'].apply(lambda x: 1 if class_name in x else 0)\n",
    "\n",
    "binary_df = pd.DataFrame(binary_data)\n"
   ]
  }
 ],
 "metadata": {
  "kernelspec": {
   "display_name": ".venv",
   "language": "python",
   "name": "python3"
  },
  "language_info": {
   "codemirror_mode": {
    "name": "ipython",
    "version": 3
   },
   "file_extension": ".py",
   "mimetype": "text/x-python",
   "name": "python",
   "nbconvert_exporter": "python",
   "pygments_lexer": "ipython3",
   "version": "3.11.2"
  },
  "orig_nbformat": 4
 },
 "nbformat": 4,
 "nbformat_minor": 2
}
