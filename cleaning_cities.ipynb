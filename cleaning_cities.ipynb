{
 "cells": [
  {
   "attachments": {},
   "cell_type": "markdown",
   "metadata": {},
   "source": [
    "# Cleaning the files\n",
    "\n",
    "\n",
    "I need to delete all the relationship graphs from the data\n",
    "\n",
    "I am not sure if this should be it's own file if it is super small"
   ]
  },
  {
   "cell_type": "code",
   "execution_count": 4,
   "metadata": {},
   "outputs": [],
   "source": [
    "import os\n",
    "\n",
    "def delete_files_with_name(folder_path, keyword):\n",
    "    for root, dirs, files in os.walk(folder_path):\n",
    "        for file in files:\n",
    "            if keyword in file:\n",
    "                file_path = os.path.join(root, file)\n",
    "                os.remove(file_path)\n",
    "                print(f\"Deleted file: {file_path}\")\n",
    "\n"
   ]
  },
  {
   "cell_type": "code",
   "execution_count": 5,
   "metadata": {},
   "outputs": [],
   "source": [
    "folder_path = './data/cleaned_cities/'\n",
    "keyword = 'Relationship_Graph'\n",
    "delete_files_with_name(folder_path, keyword)\n"
   ]
  },
  {
   "attachments": {},
   "cell_type": "markdown",
   "metadata": {},
   "source": [
    "# Change file names\n",
    "\n",
    "The file names for Lagos are completely different causing issues. they are renamed here"
   ]
  },
  {
   "cell_type": "code",
   "execution_count": 7,
   "metadata": {},
   "outputs": [],
   "source": [
    "import os\n",
    "import re\n",
    "\n",
    "folder_path = './data/cleaned_cities/Lagos'  # adjust this to your needs\n",
    "\n",
    "for filename in os.listdir(folder_path):\n",
    "    # match a pattern of \"number dot space any characters\"\n",
    "    match = re.match(r'(\\d+)\\.\\s(.*)', filename)\n",
    "    if match:\n",
    "        # format the number to be 3 digits long\n",
    "        new_number = format(int(match.group(1)), '03d')\n",
    "\n",
    "        # construct new filename\n",
    "        new_filename = f'L{new_number} Wealth-X {match.group(2)}'\n",
    "\n",
    "        # construct full old and new file paths\n",
    "        old_filepath = os.path.join(folder_path, filename)\n",
    "        new_filepath = os.path.join(folder_path, new_filename)\n",
    "\n",
    "        # rename the file\n",
    "        os.rename(old_filepath, new_filepath)"
   ]
  },
  {
   "attachments": {},
   "cell_type": "markdown",
   "metadata": {},
   "source": []
  }
 ],
 "metadata": {
  "kernelspec": {
   "display_name": ".venv",
   "language": "python",
   "name": "python3"
  },
  "language_info": {
   "codemirror_mode": {
    "name": "ipython",
    "version": 3
   },
   "file_extension": ".py",
   "mimetype": "text/x-python",
   "name": "python",
   "nbconvert_exporter": "python",
   "pygments_lexer": "ipython3",
   "version": "3.11.2"
  },
  "orig_nbformat": 4
 },
 "nbformat": 4,
 "nbformat_minor": 2
}
